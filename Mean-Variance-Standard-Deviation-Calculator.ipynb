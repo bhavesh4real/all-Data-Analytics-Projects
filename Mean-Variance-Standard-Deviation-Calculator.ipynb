{
 "cells": [
  {
   "cell_type": "markdown",
   "id": "bb43f406",
   "metadata": {},
   "source": [
    "![purple-divider](https://user-images.githubusercontent.com/7065401/52071927-c1cd7100-2562-11e9-908a-dde91ba14e59.png)\n",
    "\n",
    "# Problem Statement: \n",
    "#### Create a function named calculate() in mean_var_std.py that uses Numpy to output the mean, variance, standard deviation, max, min, and sum of the rows, columns, and elements in a 3 x 3 matrix.\n",
    "\n",
    "The input of the function should be a list containing 9 digits. The function should convert the list into a 3 x 3 Numpy array, and then return a dictionary containing the mean, variance, standard deviation, max, min, and sum along both axes and for the flattened matrix.\n",
    "\n",
    "*The returned dictionary should follow this format:*\n",
    "```Python\n",
    "{\n",
    "  'mean': [axis1, axis2, flattened],\n",
    "  'variance': [axis1, axis2, flattened],\n",
    "  'standard deviation': [axis1, axis2, flattened],\n",
    "  'max': [axis1, axis2, flattened],\n",
    "  'min': [axis1, axis2, flattened],\n",
    "  'sum': [axis1, axis2, flattened]\n",
    "}\n",
    "```\n",
    "If a list containing less than 9 elements is passed into the function, it should raise a `ValueError` exception with the message: *\"List must contain nine numbers.\"* The values in the returned dictionary should be lists and not Numpy arrays.\n",
    "\n",
    "*For example, calculate([0,1,2,3,4,5,6,7,8]) should return:*\n",
    "\n",
    "```Python\n",
    "{\n",
    "  'mean': [[3.0, 4.0, 5.0], [1.0, 4.0, 7.0], 4.0],\n",
    "  'variance': [[6.0, 6.0, 6.0], [0.6666666666666666, 0.6666666666666666, 0.6666666666666666], 6.666666666666667],\n",
    "  'standard deviation': [[2.449489742783178, 2.449489742783178, 2.449489742783178],\n",
    "                         [0.816496580927726, 0.816496580927726, 0.816496580927726], 2.581988897471611],\n",
    "  'max': [[6, 7, 8], [2, 5, 8], 8],\n",
    "  'min': [[0, 1, 2], [0, 3, 6], 0],\n",
    "  'sum': [[9, 12, 15], [3, 12, 21], 36]\n",
    "}\n",
    "```\n",
    "![purple-divider](https://user-images.githubusercontent.com/7065401/52071927-c1cd7100-2562-11e9-908a-dde91ba14e59.png)"
   ]
  },
  {
   "cell_type": "markdown",
   "id": "8aaa06a8",
   "metadata": {},
   "source": [
    "# Solution:\n",
    "as per the first principles thinking.."
   ]
  },
  {
   "cell_type": "code",
   "execution_count": 1,
   "id": "da145908",
   "metadata": {},
   "outputs": [],
   "source": [
    "import numpy as np"
   ]
  },
  {
   "cell_type": "code",
   "execution_count": 2,
   "id": "c2d5aa1f",
   "metadata": {},
   "outputs": [
    {
     "data": {
      "text/plain": [
       "array([[0, 1, 2],\n",
       "       [3, 4, 5],\n",
       "       [6, 7, 8]])"
      ]
     },
     "execution_count": 2,
     "metadata": {},
     "output_type": "execute_result"
    }
   ],
   "source": [
    "list_input = [0,1,2,3,4,5,6,7,8]\n",
    "array = np.array(list_input).reshape(3,3)\n",
    "array"
   ]
  },
  {
   "cell_type": "code",
   "execution_count": 3,
   "id": "a84068d0",
   "metadata": {},
   "outputs": [
    {
     "name": "stdout",
     "output_type": "stream",
     "text": [
      "Calculating Mean...\n",
      " \n",
      "Across Rows: [3.0, 4.0, 5.0] \n",
      "Across Columns: [1.0, 4.0, 7.0] \n",
      "Flattened: 4.0\n"
     ]
    }
   ],
   "source": [
    "print('Calculating Mean...\\n','\\nAcross Rows:',array.mean(axis = 0).tolist(),'\\n\\\n",
    "Across Columns:',array.mean(axis=1).tolist(),'\\nFlattened:',array.mean())"
   ]
  },
  {
   "cell_type": "code",
   "execution_count": 4,
   "id": "fc19fb2e",
   "metadata": {},
   "outputs": [
    {
     "name": "stdout",
     "output_type": "stream",
     "text": [
      "Calculating Variance...\n",
      " \n",
      "Across Rows: [6.0, 6.0, 6.0] \n",
      "Across Columns: [0.6666666666666666, 0.6666666666666666, 0.6666666666666666] \n",
      "Flattened: 6.666666666666667\n"
     ]
    }
   ],
   "source": [
    "print('Calculating Variance...\\n','\\nAcross Rows:',array.var(axis = 0).tolist(),'\\n\\\n",
    "Across Columns:',array.var(axis=1).tolist(),'\\nFlattened:',array.var())"
   ]
  },
  {
   "cell_type": "code",
   "execution_count": 5,
   "id": "c11a75b2",
   "metadata": {},
   "outputs": [
    {
     "data": {
      "text/plain": [
       "array([0.81649658, 0.81649658, 0.81649658])"
      ]
     },
     "execution_count": 5,
     "metadata": {},
     "output_type": "execute_result"
    }
   ],
   "source": [
    "array.std(axis=1)"
   ]
  },
  {
   "cell_type": "code",
   "execution_count": 6,
   "id": "3bd62875",
   "metadata": {},
   "outputs": [
    {
     "data": {
      "text/plain": [
       "array([6, 7, 8])"
      ]
     },
     "execution_count": 6,
     "metadata": {},
     "output_type": "execute_result"
    }
   ],
   "source": [
    "array.max(axis = 0)"
   ]
  },
  {
   "cell_type": "code",
   "execution_count": 7,
   "id": "3958d3d5",
   "metadata": {},
   "outputs": [
    {
     "data": {
      "text/plain": [
       "array([ 3, 12, 21])"
      ]
     },
     "execution_count": 7,
     "metadata": {},
     "output_type": "execute_result"
    }
   ],
   "source": [
    "array.sum(axis =1)"
   ]
  },
  {
   "cell_type": "markdown",
   "id": "b3698ead",
   "metadata": {},
   "source": [
    "## Main Program:"
   ]
  },
  {
   "cell_type": "code",
   "execution_count": 8,
   "id": "9fe7079c",
   "metadata": {},
   "outputs": [],
   "source": [
    "def calculate(list):\n",
    "    if len(list) != 9:\n",
    "        raise ValueError('list must contain nine numbers.')\n",
    "        \n",
    "    arr = np.array(list).reshape(3,3)\n",
    "    \n",
    "    calculations = {\n",
    "        'mean:':[arr.mean(axis =0).tolist(), arr.mean(axis = 1).tolist(),arr.mean()],\n",
    "        'variance':[arr.var(axis=0).tolist(),arr.var(axis=1).tolist(),arr.var()],\n",
    "        'standard deviation':[arr.std(axis=0).tolist(),arr.std(axis=1).tolist(),arr.std()],\n",
    "        'max':[arr.max(axis=0).tolist(),arr.max(axis=1).tolist(),arr.max()],\n",
    "        'min':[arr.min(axis=0).tolist(),arr.min(axis=1).tolist(),arr.min()],\n",
    "        'sum':[arr.sum(axis=0).tolist(),arr.sum(axis=1).tolist(),arr.sum()],\n",
    "    }\n",
    "    return calculations"
   ]
  },
  {
   "cell_type": "markdown",
   "id": "7a0fd95c",
   "metadata": {},
   "source": [
    "## Input Data:"
   ]
  },
  {
   "cell_type": "code",
   "execution_count": 9,
   "id": "747bbbbb",
   "metadata": {},
   "outputs": [],
   "source": [
    "input1_vals = [0,1,2,3,4,5,6,7,8]\n",
    "output1 = calculate(input1_vals)"
   ]
  },
  {
   "cell_type": "code",
   "execution_count": 10,
   "id": "d219617c",
   "metadata": {},
   "outputs": [],
   "source": [
    "input2_vals = [9,1,5,3,3,3,2,9,0]\n",
    "output2 = calculate(input2_vals)"
   ]
  },
  {
   "cell_type": "markdown",
   "id": "bcefe905",
   "metadata": {},
   "source": [
    "## Testing:"
   ]
  },
  {
   "cell_type": "code",
   "execution_count": 11,
   "id": "6a30362e",
   "metadata": {},
   "outputs": [],
   "source": [
    "result = {\n",
    "    'test1':{'mean:': [[3.0, 4.0, 5.0], [1.0, 4.0, 7.0], 4.0],\n",
    "             'variance': [[6.0, 6.0, 6.0],[0.6666666666666666, 0.6666666666666666, 0.6666666666666666],6.666666666666667],\n",
    "             'standard deviation': [[2.449489742783178,2.449489742783178,2.449489742783178],\n",
    "                                    [0.816496580927726, 0.816496580927726, 0.816496580927726],2.581988897471611],\n",
    "             'max': [[6, 7, 8], [2, 5, 8], 8],\n",
    "             'min': [[0, 1, 2], [0, 3, 6], 0],\n",
    "             'sum': [[9, 12, 15], [3, 12, 21], 36]},\n",
    "    'test2':{'mean:': [[4.666666666666667, 4.333333333333333, 2.6666666666666665],[5.0, 3.0, 3.6666666666666665],\n",
    "                       3.888888888888889],\n",
    "             'variance': [[9.555555555555555, 11.555555555555557, 4.222222222222222],\n",
    "                          [10.666666666666666, 0.0, 14.888888888888891],9.209876543209875],\n",
    "             'standard deviation': [[3.0912061651652345,3.39934634239519,2.0548046676563256],\n",
    "                                    [3.265986323710904, 0.0, 3.8586123009300755],3.0347778408328137],\n",
    "             'max': [[9, 9, 5], [9, 3, 9], 9],\n",
    "             'min': [[2, 1, 0], [1, 3, 0], 0],\n",
    "             'sum': [[14, 13, 8], [15, 9, 11], 35]}\n",
    "    \n",
    "}"
   ]
  },
  {
   "cell_type": "code",
   "execution_count": 12,
   "id": "84fccf88",
   "metadata": {},
   "outputs": [
    {
     "data": {
      "text/plain": [
       "True"
      ]
     },
     "execution_count": 12,
     "metadata": {},
     "output_type": "execute_result"
    }
   ],
   "source": [
    "result['test1'] == output1"
   ]
  },
  {
   "cell_type": "code",
   "execution_count": 13,
   "id": "0b693bf5",
   "metadata": {},
   "outputs": [
    {
     "data": {
      "text/plain": [
       "True"
      ]
     },
     "execution_count": 13,
     "metadata": {},
     "output_type": "execute_result"
    }
   ],
   "source": [
    "result['test2'] == output2"
   ]
  },
  {
   "cell_type": "markdown",
   "id": "eb9b27e2",
   "metadata": {},
   "source": [
    "## Show the Outputs:"
   ]
  },
  {
   "cell_type": "code",
   "execution_count": 14,
   "id": "a3b7312a",
   "metadata": {},
   "outputs": [
    {
     "data": {
      "text/plain": [
       "{'mean:': [[3.0, 4.0, 5.0], [1.0, 4.0, 7.0], 4.0],\n",
       " 'variance': [[6.0, 6.0, 6.0],\n",
       "  [0.6666666666666666, 0.6666666666666666, 0.6666666666666666],\n",
       "  6.666666666666667],\n",
       " 'standard deviation': [[2.449489742783178,\n",
       "   2.449489742783178,\n",
       "   2.449489742783178],\n",
       "  [0.816496580927726, 0.816496580927726, 0.816496580927726],\n",
       "  2.581988897471611],\n",
       " 'max': [[6, 7, 8], [2, 5, 8], 8],\n",
       " 'min': [[0, 1, 2], [0, 3, 6], 0],\n",
       " 'sum': [[9, 12, 15], [3, 12, 21], 36]}"
      ]
     },
     "execution_count": 14,
     "metadata": {},
     "output_type": "execute_result"
    }
   ],
   "source": [
    "output1"
   ]
  },
  {
   "cell_type": "code",
   "execution_count": 15,
   "id": "14f19515",
   "metadata": {},
   "outputs": [
    {
     "data": {
      "text/plain": [
       "{'mean:': [[4.666666666666667, 4.333333333333333, 2.6666666666666665],\n",
       "  [5.0, 3.0, 3.6666666666666665],\n",
       "  3.888888888888889],\n",
       " 'variance': [[9.555555555555555, 11.555555555555557, 4.222222222222222],\n",
       "  [10.666666666666666, 0.0, 14.888888888888891],\n",
       "  9.209876543209875],\n",
       " 'standard deviation': [[3.0912061651652345,\n",
       "   3.39934634239519,\n",
       "   2.0548046676563256],\n",
       "  [3.265986323710904, 0.0, 3.8586123009300755],\n",
       "  3.0347778408328137],\n",
       " 'max': [[9, 9, 5], [9, 3, 9], 9],\n",
       " 'min': [[2, 1, 0], [1, 3, 0], 0],\n",
       " 'sum': [[14, 13, 8], [15, 9, 11], 35]}"
      ]
     },
     "execution_count": 15,
     "metadata": {},
     "output_type": "execute_result"
    }
   ],
   "source": [
    "output2"
   ]
  },
  {
   "cell_type": "code",
   "execution_count": 16,
   "id": "e9be01ae",
   "metadata": {},
   "outputs": [
    {
     "ename": "ValueError",
     "evalue": "list must contain nine numbers.",
     "output_type": "error",
     "traceback": [
      "\u001b[1;31m---------------------------------------------------------------------------\u001b[0m",
      "\u001b[1;31mValueError\u001b[0m                                Traceback (most recent call last)",
      "Cell \u001b[1;32mIn[16], line 2\u001b[0m\n\u001b[0;32m      1\u001b[0m input3_vals \u001b[38;5;241m=\u001b[39m [\u001b[38;5;241m3\u001b[39m,\u001b[38;5;241m4\u001b[39m,\u001b[38;5;241m2\u001b[39m,\u001b[38;5;241m5\u001b[39m,\u001b[38;5;241m1\u001b[39m]\n\u001b[1;32m----> 2\u001b[0m output3 \u001b[38;5;241m=\u001b[39m \u001b[43mcalculate\u001b[49m\u001b[43m(\u001b[49m\u001b[43minput3_vals\u001b[49m\u001b[43m)\u001b[49m\n",
      "Cell \u001b[1;32mIn[8], line 3\u001b[0m, in \u001b[0;36mcalculate\u001b[1;34m(list)\u001b[0m\n\u001b[0;32m      1\u001b[0m \u001b[38;5;28;01mdef\u001b[39;00m \u001b[38;5;21mcalculate\u001b[39m(\u001b[38;5;28mlist\u001b[39m):\n\u001b[0;32m      2\u001b[0m     \u001b[38;5;28;01mif\u001b[39;00m \u001b[38;5;28mlen\u001b[39m(\u001b[38;5;28mlist\u001b[39m) \u001b[38;5;241m!=\u001b[39m \u001b[38;5;241m9\u001b[39m:\n\u001b[1;32m----> 3\u001b[0m         \u001b[38;5;28;01mraise\u001b[39;00m \u001b[38;5;167;01mValueError\u001b[39;00m(\u001b[38;5;124m'\u001b[39m\u001b[38;5;124mlist must contain nine numbers.\u001b[39m\u001b[38;5;124m'\u001b[39m)\n\u001b[0;32m      5\u001b[0m     arr \u001b[38;5;241m=\u001b[39m np\u001b[38;5;241m.\u001b[39marray(\u001b[38;5;28mlist\u001b[39m)\u001b[38;5;241m.\u001b[39mreshape(\u001b[38;5;241m3\u001b[39m,\u001b[38;5;241m3\u001b[39m)\n\u001b[0;32m      7\u001b[0m     calculations \u001b[38;5;241m=\u001b[39m {\n\u001b[0;32m      8\u001b[0m         \u001b[38;5;124m'\u001b[39m\u001b[38;5;124mmean:\u001b[39m\u001b[38;5;124m'\u001b[39m:[arr\u001b[38;5;241m.\u001b[39mmean(axis \u001b[38;5;241m=\u001b[39m\u001b[38;5;241m0\u001b[39m)\u001b[38;5;241m.\u001b[39mtolist(), arr\u001b[38;5;241m.\u001b[39mmean(axis \u001b[38;5;241m=\u001b[39m \u001b[38;5;241m1\u001b[39m)\u001b[38;5;241m.\u001b[39mtolist(),arr\u001b[38;5;241m.\u001b[39mmean()],\n\u001b[0;32m      9\u001b[0m         \u001b[38;5;124m'\u001b[39m\u001b[38;5;124mvariance\u001b[39m\u001b[38;5;124m'\u001b[39m:[arr\u001b[38;5;241m.\u001b[39mvar(axis\u001b[38;5;241m=\u001b[39m\u001b[38;5;241m0\u001b[39m)\u001b[38;5;241m.\u001b[39mtolist(),arr\u001b[38;5;241m.\u001b[39mvar(axis\u001b[38;5;241m=\u001b[39m\u001b[38;5;241m1\u001b[39m)\u001b[38;5;241m.\u001b[39mtolist(),arr\u001b[38;5;241m.\u001b[39mvar()],\n\u001b[1;32m   (...)\u001b[0m\n\u001b[0;32m     13\u001b[0m         \u001b[38;5;124m'\u001b[39m\u001b[38;5;124msum\u001b[39m\u001b[38;5;124m'\u001b[39m:[arr\u001b[38;5;241m.\u001b[39msum(axis\u001b[38;5;241m=\u001b[39m\u001b[38;5;241m0\u001b[39m)\u001b[38;5;241m.\u001b[39mtolist(),arr\u001b[38;5;241m.\u001b[39msum(axis\u001b[38;5;241m=\u001b[39m\u001b[38;5;241m1\u001b[39m)\u001b[38;5;241m.\u001b[39mtolist(),arr\u001b[38;5;241m.\u001b[39msum()],\n\u001b[0;32m     14\u001b[0m     }\n",
      "\u001b[1;31mValueError\u001b[0m: list must contain nine numbers."
     ]
    }
   ],
   "source": [
    "input3_vals = [3,4,2,5,1]\n",
    "output3 = calculate(input3_vals)"
   ]
  },
  {
   "cell_type": "markdown",
   "id": "5078e36f",
   "metadata": {},
   "source": [
    "![purple-divider](https://user-images.githubusercontent.com/7065401/52071927-c1cd7100-2562-11e9-908a-dde91ba14e59.png)\n",
    "\n",
    "<img src=\"https://imgur.com/3g7LyTV.png\" align = 'right' width=\"240\">\n",
    "\n",
    "$End$ $of$ $the$ $notebook...$"
   ]
  }
 ],
 "metadata": {
  "kernelspec": {
   "display_name": "Python 3 (ipykernel)",
   "language": "python",
   "name": "python3"
  },
  "language_info": {
   "codemirror_mode": {
    "name": "ipython",
    "version": 3
   },
   "file_extension": ".py",
   "mimetype": "text/x-python",
   "name": "python",
   "nbconvert_exporter": "python",
   "pygments_lexer": "ipython3",
   "version": "3.10.8"
  }
 },
 "nbformat": 4,
 "nbformat_minor": 5
}
