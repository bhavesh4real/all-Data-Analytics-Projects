{
 "cells": [
  {
   "cell_type": "markdown",
   "id": "03f78b54",
   "metadata": {},
   "source": [
    "![purple-divider](https://user-images.githubusercontent.com/7065401/52071927-c1cd7100-2562-11e9-908a-dde91ba14e59.png)\n",
    "# Problem Statement: \n",
    "#### In this challenge you must analyze demographic data using Pandas. You are given a dataset of demographic data that was extracted from the 1994 Census database.\n",
    "You must use Pandas to answer the following questions:\n",
    "\n",
    "1. What is the average age of men?\n",
    "2. What is the percentage of people who have a Bachelor's degree?\n",
    "3. What percentage of people with advanced education (Bachelors, Masters, or Doctorate) make more than 50K?\n",
    "4. What percentage of people without advanced education make more than 50K?\n",
    "5. What is the minimum number of hours a person works per week?\n",
    "6. What percentage of the people who work the minimum number of hours per week have a salary of more than 50K?\n",
    "7. What country has the highest percentage of people that earn >50K and what is that percentage?\n",
    "8. Identify the most popular occupation for those who earn >50K in India.\n",
    "9. How many people of each race are represented in this dataset?\n",
    "\n",
    "Round all decimals to the nearest tenth.\n",
    "\n",
    "![purple-divider](https://user-images.githubusercontent.com/7065401/52071927-c1cd7100-2562-11e9-908a-dde91ba14e59.png)\n",
    "\n",
    "## Solution:"
   ]
  },
  {
   "cell_type": "code",
   "execution_count": 1,
   "id": "89b7a166",
   "metadata": {},
   "outputs": [],
   "source": [
    "import pandas as pd"
   ]
  },
  {
   "cell_type": "code",
   "execution_count": 2,
   "id": "ef848ea0",
   "metadata": {},
   "outputs": [
    {
     "data": {
      "text/html": [
       "<div>\n",
       "<style scoped>\n",
       "    .dataframe tbody tr th:only-of-type {\n",
       "        vertical-align: middle;\n",
       "    }\n",
       "\n",
       "    .dataframe tbody tr th {\n",
       "        vertical-align: top;\n",
       "    }\n",
       "\n",
       "    .dataframe thead th {\n",
       "        text-align: right;\n",
       "    }\n",
       "</style>\n",
       "<table border=\"1\" class=\"dataframe\">\n",
       "  <thead>\n",
       "    <tr style=\"text-align: right;\">\n",
       "      <th></th>\n",
       "      <th>age</th>\n",
       "      <th>workclass</th>\n",
       "      <th>fnlwgt</th>\n",
       "      <th>education</th>\n",
       "      <th>education-num</th>\n",
       "      <th>marital-status</th>\n",
       "      <th>occupation</th>\n",
       "      <th>relationship</th>\n",
       "      <th>race</th>\n",
       "      <th>sex</th>\n",
       "      <th>capital-gain</th>\n",
       "      <th>capital-loss</th>\n",
       "      <th>hours-per-week</th>\n",
       "      <th>native-country</th>\n",
       "      <th>salary</th>\n",
       "    </tr>\n",
       "  </thead>\n",
       "  <tbody>\n",
       "    <tr>\n",
       "      <th>0</th>\n",
       "      <td>39</td>\n",
       "      <td>State-gov</td>\n",
       "      <td>77516</td>\n",
       "      <td>Bachelors</td>\n",
       "      <td>13</td>\n",
       "      <td>Never-married</td>\n",
       "      <td>Adm-clerical</td>\n",
       "      <td>Not-in-family</td>\n",
       "      <td>White</td>\n",
       "      <td>Male</td>\n",
       "      <td>2174</td>\n",
       "      <td>0</td>\n",
       "      <td>40</td>\n",
       "      <td>United-States</td>\n",
       "      <td>&lt;=50K</td>\n",
       "    </tr>\n",
       "    <tr>\n",
       "      <th>1</th>\n",
       "      <td>50</td>\n",
       "      <td>Self-emp-not-inc</td>\n",
       "      <td>83311</td>\n",
       "      <td>Bachelors</td>\n",
       "      <td>13</td>\n",
       "      <td>Married-civ-spouse</td>\n",
       "      <td>Exec-managerial</td>\n",
       "      <td>Husband</td>\n",
       "      <td>White</td>\n",
       "      <td>Male</td>\n",
       "      <td>0</td>\n",
       "      <td>0</td>\n",
       "      <td>13</td>\n",
       "      <td>United-States</td>\n",
       "      <td>&lt;=50K</td>\n",
       "    </tr>\n",
       "    <tr>\n",
       "      <th>2</th>\n",
       "      <td>38</td>\n",
       "      <td>Private</td>\n",
       "      <td>215646</td>\n",
       "      <td>HS-grad</td>\n",
       "      <td>9</td>\n",
       "      <td>Divorced</td>\n",
       "      <td>Handlers-cleaners</td>\n",
       "      <td>Not-in-family</td>\n",
       "      <td>White</td>\n",
       "      <td>Male</td>\n",
       "      <td>0</td>\n",
       "      <td>0</td>\n",
       "      <td>40</td>\n",
       "      <td>United-States</td>\n",
       "      <td>&lt;=50K</td>\n",
       "    </tr>\n",
       "    <tr>\n",
       "      <th>3</th>\n",
       "      <td>53</td>\n",
       "      <td>Private</td>\n",
       "      <td>234721</td>\n",
       "      <td>11th</td>\n",
       "      <td>7</td>\n",
       "      <td>Married-civ-spouse</td>\n",
       "      <td>Handlers-cleaners</td>\n",
       "      <td>Husband</td>\n",
       "      <td>Black</td>\n",
       "      <td>Male</td>\n",
       "      <td>0</td>\n",
       "      <td>0</td>\n",
       "      <td>40</td>\n",
       "      <td>United-States</td>\n",
       "      <td>&lt;=50K</td>\n",
       "    </tr>\n",
       "    <tr>\n",
       "      <th>4</th>\n",
       "      <td>28</td>\n",
       "      <td>Private</td>\n",
       "      <td>338409</td>\n",
       "      <td>Bachelors</td>\n",
       "      <td>13</td>\n",
       "      <td>Married-civ-spouse</td>\n",
       "      <td>Prof-specialty</td>\n",
       "      <td>Wife</td>\n",
       "      <td>Black</td>\n",
       "      <td>Female</td>\n",
       "      <td>0</td>\n",
       "      <td>0</td>\n",
       "      <td>40</td>\n",
       "      <td>Cuba</td>\n",
       "      <td>&lt;=50K</td>\n",
       "    </tr>\n",
       "  </tbody>\n",
       "</table>\n",
       "</div>"
      ],
      "text/plain": [
       "   age         workclass  fnlwgt  education  education-num  \\\n",
       "0   39         State-gov   77516  Bachelors             13   \n",
       "1   50  Self-emp-not-inc   83311  Bachelors             13   \n",
       "2   38           Private  215646    HS-grad              9   \n",
       "3   53           Private  234721       11th              7   \n",
       "4   28           Private  338409  Bachelors             13   \n",
       "\n",
       "       marital-status         occupation   relationship   race     sex  \\\n",
       "0       Never-married       Adm-clerical  Not-in-family  White    Male   \n",
       "1  Married-civ-spouse    Exec-managerial        Husband  White    Male   \n",
       "2            Divorced  Handlers-cleaners  Not-in-family  White    Male   \n",
       "3  Married-civ-spouse  Handlers-cleaners        Husband  Black    Male   \n",
       "4  Married-civ-spouse     Prof-specialty           Wife  Black  Female   \n",
       "\n",
       "   capital-gain  capital-loss  hours-per-week native-country salary  \n",
       "0          2174             0              40  United-States  <=50K  \n",
       "1             0             0              13  United-States  <=50K  \n",
       "2             0             0              40  United-States  <=50K  \n",
       "3             0             0              40  United-States  <=50K  \n",
       "4             0             0              40           Cuba  <=50K  "
      ]
     },
     "execution_count": 2,
     "metadata": {},
     "output_type": "execute_result"
    }
   ],
   "source": [
    "data = pd.read_csv('data/adults_data.csv')\n",
    "data.head()"
   ]
  },
  {
   "cell_type": "code",
   "execution_count": 3,
   "id": "c46cc1db",
   "metadata": {},
   "outputs": [
    {
     "name": "stdout",
     "output_type": "stream",
     "text": [
      "<class 'pandas.core.frame.DataFrame'>\n",
      "RangeIndex: 32561 entries, 0 to 32560\n",
      "Data columns (total 15 columns):\n",
      " #   Column          Non-Null Count  Dtype \n",
      "---  ------          --------------  ----- \n",
      " 0   age             32561 non-null  int64 \n",
      " 1   workclass       32561 non-null  object\n",
      " 2   fnlwgt          32561 non-null  int64 \n",
      " 3   education       32561 non-null  object\n",
      " 4   education-num   32561 non-null  int64 \n",
      " 5   marital-status  32561 non-null  object\n",
      " 6   occupation      32561 non-null  object\n",
      " 7   relationship    32561 non-null  object\n",
      " 8   race            32561 non-null  object\n",
      " 9   sex             32561 non-null  object\n",
      " 10  capital-gain    32561 non-null  int64 \n",
      " 11  capital-loss    32561 non-null  int64 \n",
      " 12  hours-per-week  32561 non-null  int64 \n",
      " 13  native-country  32561 non-null  object\n",
      " 14  salary          32561 non-null  object\n",
      "dtypes: int64(6), object(9)\n",
      "memory usage: 3.7+ MB\n"
     ]
    }
   ],
   "source": [
    "data.info()"
   ]
  },
  {
   "cell_type": "code",
   "execution_count": 4,
   "id": "e8db8963",
   "metadata": {},
   "outputs": [
    {
     "data": {
      "text/plain": [
       "Male      21790\n",
       "Female    10771\n",
       "Name: sex, dtype: int64"
      ]
     },
     "execution_count": 4,
     "metadata": {},
     "output_type": "execute_result"
    }
   ],
   "source": [
    "data['sex'].value_counts()"
   ]
  },
  {
   "cell_type": "markdown",
   "id": "53305faa",
   "metadata": {},
   "source": [
    "1. The average age of males is..."
   ]
  },
  {
   "cell_type": "code",
   "execution_count": 5,
   "id": "7e4010b3",
   "metadata": {},
   "outputs": [
    {
     "data": {
      "text/plain": [
       "39.43"
      ]
     },
     "execution_count": 5,
     "metadata": {},
     "output_type": "execute_result"
    }
   ],
   "source": [
    "#answer\n",
    "males = (data['sex'] == 'Male') \n",
    "(data['age'].loc[males].mean()).round(2)"
   ]
  },
  {
   "cell_type": "markdown",
   "id": "10dd5bee",
   "metadata": {},
   "source": [
    "2. The percentage of people who have Bachelor's Degree is..."
   ]
  },
  {
   "cell_type": "markdown",
   "id": "27f35163",
   "metadata": {},
   "source": [
    "Let us see all  th values in the `education` column with their counts."
   ]
  },
  {
   "cell_type": "code",
   "execution_count": 6,
   "id": "b07c1885",
   "metadata": {
    "scrolled": true
   },
   "outputs": [
    {
     "data": {
      "text/plain": [
       "HS-grad         10501\n",
       "Some-college     7291\n",
       "Bachelors        5355\n",
       "Masters          1723\n",
       "Assoc-voc        1382\n",
       "11th             1175\n",
       "Assoc-acdm       1067\n",
       "10th              933\n",
       "7th-8th           646\n",
       "Prof-school       576\n",
       "9th               514\n",
       "12th              433\n",
       "Doctorate         413\n",
       "5th-6th           333\n",
       "1st-4th           168\n",
       "Preschool          51\n",
       "Name: education, dtype: int64"
      ]
     },
     "execution_count": 6,
     "metadata": {},
     "output_type": "execute_result"
    }
   ],
   "source": [
    "data['education'].value_counts()"
   ]
  },
  {
   "cell_type": "code",
   "execution_count": 7,
   "id": "abcc1991",
   "metadata": {},
   "outputs": [
    {
     "data": {
      "text/plain": [
       "RangeIndex(start=0, stop=32561, step=1)"
      ]
     },
     "execution_count": 7,
     "metadata": {},
     "output_type": "execute_result"
    }
   ],
   "source": [
    "data.index"
   ]
  },
  {
   "cell_type": "code",
   "execution_count": 8,
   "id": "1dd26962",
   "metadata": {},
   "outputs": [
    {
     "data": {
      "text/plain": [
       "16.45"
      ]
     },
     "execution_count": 8,
     "metadata": {},
     "output_type": "execute_result"
    }
   ],
   "source": [
    "#answer\n",
    "b_degree = (data['education'] =='Bachelors')\n",
    "((data['education'].loc[b_degree].count()/32561)*100).round(2)"
   ]
  },
  {
   "cell_type": "markdown",
   "id": "87ff7643",
   "metadata": {},
   "source": [
    "3. What percentage of people with advanced education (Bachelors, Masters, or Doctorate) make more than 50K?"
   ]
  },
  {
   "cell_type": "markdown",
   "id": "fe197923",
   "metadata": {},
   "source": [
    "* Let us first see the values in `salary` column with their total counts."
   ]
  },
  {
   "cell_type": "code",
   "execution_count": 9,
   "id": "61bd34fe",
   "metadata": {},
   "outputs": [
    {
     "data": {
      "text/plain": [
       "<=50K    24720\n",
       ">50K      7841\n",
       "Name: salary, dtype: int64"
      ]
     },
     "execution_count": 9,
     "metadata": {},
     "output_type": "execute_result"
    }
   ],
   "source": [
    "data['salary'].value_counts()"
   ]
  },
  {
   "cell_type": "markdown",
   "id": "f8f4d58d",
   "metadata": {},
   "source": [
    "* Now we can filter our data as per the given condition. \n",
    " \n",
    " *which is* `education` == *Bachelors or Masters or Doctorate* *and* `salary` *>50K*"
   ]
  },
  {
   "cell_type": "code",
   "execution_count": 10,
   "id": "00e0fe04",
   "metadata": {},
   "outputs": [
    {
     "data": {
      "text/plain": [
       "3486"
      ]
     },
     "execution_count": 10,
     "metadata": {},
     "output_type": "execute_result"
    }
   ],
   "source": [
    "adv_ed = (((data['education'] == 'Bachelors') | (data['education'] == 'Masters')|(data['education'] == 'Doctorate' )) & (data['salary'] == '>50K'))\n",
    "data['salary'].loc[adv_ed].count()"
   ]
  },
  {
   "cell_type": "code",
   "execution_count": 11,
   "id": "ab2eceeb",
   "metadata": {
    "scrolled": true
   },
   "outputs": [
    {
     "data": {
      "text/plain": [
       "10.71"
      ]
     },
     "execution_count": 11,
     "metadata": {},
     "output_type": "execute_result"
    }
   ],
   "source": [
    " #answer\n",
    "((data['salary'].loc[adv_ed].count()/32561)*100).round(2)"
   ]
  },
  {
   "cell_type": "markdown",
   "id": "b2cf92d3",
   "metadata": {},
   "source": [
    "Let's just select *any not null column* to count values in our dataset, to avoid manually writing the index count.\n",
    "- we do it as **data.age.count()** "
   ]
  },
  {
   "cell_type": "code",
   "execution_count": 12,
   "id": "1c9862f1",
   "metadata": {},
   "outputs": [
    {
     "data": {
      "text/plain": [
       "10.71"
      ]
     },
     "execution_count": 12,
     "metadata": {},
     "output_type": "execute_result"
    }
   ],
   "source": [
    " #answer\n",
    "((data['salary'].loc[adv_ed].count()/data.age.count())*100).round(2)"
   ]
  },
  {
   "cell_type": "markdown",
   "id": "f0b3eb45",
   "metadata": {},
   "source": [
    "4. What percentage of people without advanced education make more than 50K?"
   ]
  },
  {
   "cell_type": "code",
   "execution_count": 13,
   "id": "77f8baf4",
   "metadata": {},
   "outputs": [
    {
     "data": {
      "text/plain": [
       "3486"
      ]
     },
     "execution_count": 13,
     "metadata": {},
     "output_type": "execute_result"
    }
   ],
   "source": [
    "not_adv_ed = (~((data['education'] == 'Bachelors') | (data['education'] == 'Masters')|(data['education'] == 'Doctorate' )) & (data['salary'] == '>50K'))\n",
    "data['salary'].loc[adv_ed].count()"
   ]
  },
  {
   "cell_type": "code",
   "execution_count": 14,
   "id": "d2277690",
   "metadata": {},
   "outputs": [
    {
     "data": {
      "text/plain": [
       "13.37"
      ]
     },
     "execution_count": 14,
     "metadata": {},
     "output_type": "execute_result"
    }
   ],
   "source": [
    " #answer\n",
    "((data['salary'].loc[not_adv_ed].count()/data.age.count())*100).round(2) "
   ]
  },
  {
   "cell_type": "markdown",
   "id": "10b687b6",
   "metadata": {},
   "source": [
    "5. What is the minimum number of hours a person works per week?"
   ]
  },
  {
   "cell_type": "markdown",
   "id": "a9fdbe53",
   "metadata": {},
   "source": [
    "* First we'll find out all the *unique* values in `hours-per-week` column and them filter out the minimun value."
   ]
  },
  {
   "cell_type": "code",
   "execution_count": 15,
   "id": "3ac13226",
   "metadata": {},
   "outputs": [
    {
     "data": {
      "text/plain": [
       "array([40, 13, 16, 45, 50, 80, 30, 35, 60, 20, 52, 44, 15, 25, 38, 43, 55,\n",
       "       48, 58, 32, 70,  2, 22, 56, 41, 28, 36, 24, 46, 42, 12, 65,  1, 10,\n",
       "       34, 75, 98, 33, 54,  8,  6, 64, 19, 18, 72,  5,  9, 47, 37, 21, 26,\n",
       "       14,  4, 59,  7, 99, 53, 39, 62, 57, 78, 90, 66, 11, 49, 84,  3, 17,\n",
       "       68, 27, 85, 31, 51, 77, 63, 23, 87, 88, 73, 89, 97, 94, 29, 96, 67,\n",
       "       82, 86, 91, 81, 76, 92, 61, 74, 95], dtype=int64)"
      ]
     },
     "execution_count": 15,
     "metadata": {},
     "output_type": "execute_result"
    }
   ],
   "source": [
    "data['hours-per-week'].unique()"
   ]
  },
  {
   "cell_type": "code",
   "execution_count": 16,
   "id": "13f9125c",
   "metadata": {},
   "outputs": [
    {
     "data": {
      "text/plain": [
       "1"
      ]
     },
     "execution_count": 16,
     "metadata": {},
     "output_type": "execute_result"
    }
   ],
   "source": [
    "#answer\n",
    "data['hours-per-week'].unique().min()"
   ]
  },
  {
   "cell_type": "markdown",
   "id": "6681f2af",
   "metadata": {},
   "source": [
    "6. What percentage of the people who work the minimum number of hours per week have a salary of more than 50K?"
   ]
  },
  {
   "cell_type": "code",
   "execution_count": 17,
   "id": "c813349a",
   "metadata": {},
   "outputs": [
    {
     "data": {
      "text/plain": [
       "age               2\n",
       "workclass         2\n",
       "fnlwgt            2\n",
       "education         2\n",
       "education-num     2\n",
       "marital-status    2\n",
       "occupation        2\n",
       "relationship      2\n",
       "race              2\n",
       "sex               2\n",
       "capital-gain      2\n",
       "capital-loss      2\n",
       "hours-per-week    2\n",
       "native-country    2\n",
       "salary            2\n",
       "dtype: int64"
      ]
     },
     "execution_count": 17,
     "metadata": {},
     "output_type": "execute_result"
    }
   ],
   "source": [
    "min_hr = ((data['hours-per-week'] == 1) & (data['salary'] == '>50K'))\n",
    "data.loc[min_hr].count()"
   ]
  },
  {
   "cell_type": "code",
   "execution_count": 18,
   "id": "aab7f02c",
   "metadata": {},
   "outputs": [
    {
     "data": {
      "text/plain": [
       "0.01"
      ]
     },
     "execution_count": 18,
     "metadata": {},
     "output_type": "execute_result"
    }
   ],
   "source": [
    "#answer\n",
    "((data['salary'].loc[min_hr].count()/data.age.count())*100).round(2)"
   ]
  },
  {
   "cell_type": "markdown",
   "id": "2a5e29f9",
   "metadata": {},
   "source": [
    "7. What country has the highest percentage of people that earn >50K and what is that percentage? "
   ]
  },
  {
   "cell_type": "code",
   "execution_count": 19,
   "id": "96ed85ad",
   "metadata": {},
   "outputs": [
    {
     "data": {
      "text/plain": [
       "array(['United-States', 'Cuba', 'Jamaica', 'India', '?', 'Mexico',\n",
       "       'South', 'Puerto-Rico', 'Honduras', 'England', 'Canada', 'Germany',\n",
       "       'Iran', 'Philippines', 'Italy', 'Poland', 'Columbia', 'Cambodia',\n",
       "       'Thailand', 'Ecuador', 'Laos', 'Taiwan', 'Haiti', 'Portugal',\n",
       "       'Dominican-Republic', 'El-Salvador', 'France', 'Guatemala',\n",
       "       'China', 'Japan', 'Yugoslavia', 'Peru',\n",
       "       'Outlying-US(Guam-USVI-etc)', 'Scotland', 'Trinadad&Tobago',\n",
       "       'Greece', 'Nicaragua', 'Vietnam', 'Hong', 'Ireland', 'Hungary',\n",
       "       'Holand-Netherlands'], dtype=object)"
      ]
     },
     "execution_count": 19,
     "metadata": {},
     "output_type": "execute_result"
    }
   ],
   "source": [
    "data['native-country'].unique()"
   ]
  },
  {
   "cell_type": "code",
   "execution_count": 20,
   "id": "89479b4a",
   "metadata": {},
   "outputs": [],
   "source": [
    "cond = (data['salary'] == '>50K')"
   ]
  },
  {
   "cell_type": "code",
   "execution_count": 21,
   "id": "bb9b3a49",
   "metadata": {},
   "outputs": [
    {
     "data": {
      "text/plain": [
       "7841"
      ]
     },
     "execution_count": 21,
     "metadata": {},
     "output_type": "execute_result"
    }
   ],
   "source": [
    "countries50kplus = data['native-country'].loc[cond].value_counts().sum()\n",
    "countries50kplus"
   ]
  },
  {
   "cell_type": "code",
   "execution_count": 22,
   "id": "11d6aaf8",
   "metadata": {
    "scrolled": true
   },
   "outputs": [
    {
     "data": {
      "text/plain": [
       "United-States    372.018875\n",
       "Name: native-country, dtype: float64"
      ]
     },
     "execution_count": 22,
     "metadata": {},
     "output_type": "execute_result"
    }
   ],
   "source": [
    "#answer\n",
    "pct_countries50k  = (data['native-country'].value_counts()/countries50kplus)*100\n",
    "pct_countries50k.head(1)"
   ]
  },
  {
   "cell_type": "code",
   "execution_count": 23,
   "id": "f9b3d87d",
   "metadata": {},
   "outputs": [
    {
     "data": {
      "text/plain": [
       "United-States                 372.0\n",
       "Mexico                          8.2\n",
       "?                               7.4\n",
       "Philippines                     2.5\n",
       "Germany                         1.7\n",
       "Canada                          1.5\n",
       "Puerto-Rico                     1.5\n",
       "El-Salvador                     1.4\n",
       "India                           1.3\n",
       "Cuba                            1.2\n",
       "England                         1.1\n",
       "Jamaica                         1.0\n",
       "South                           1.0\n",
       "China                           1.0\n",
       "Italy                           0.9\n",
       "Dominican-Republic              0.9\n",
       "Vietnam                         0.9\n",
       "Guatemala                       0.8\n",
       "Japan                           0.8\n",
       "Poland                          0.8\n",
       "Columbia                        0.8\n",
       "Taiwan                          0.7\n",
       "Haiti                           0.6\n",
       "Iran                            0.5\n",
       "Portugal                        0.5\n",
       "Nicaragua                       0.4\n",
       "Peru                            0.4\n",
       "France                          0.4\n",
       "Greece                          0.4\n",
       "Ecuador                         0.4\n",
       "Ireland                         0.3\n",
       "Hong                            0.3\n",
       "Cambodia                        0.2\n",
       "Trinadad&Tobago                 0.2\n",
       "Laos                            0.2\n",
       "Thailand                        0.2\n",
       "Yugoslavia                      0.2\n",
       "Outlying-US(Guam-USVI-etc)      0.2\n",
       "Honduras                        0.2\n",
       "Hungary                         0.2\n",
       "Scotland                        0.2\n",
       "Holand-Netherlands              0.0\n",
       "Name: native-country, dtype: float64"
      ]
     },
     "execution_count": 23,
     "metadata": {},
     "output_type": "execute_result"
    }
   ],
   "source": [
    "pct_countries50k.round(1)"
   ]
  },
  {
   "cell_type": "code",
   "execution_count": 24,
   "id": "b2165a6a",
   "metadata": {},
   "outputs": [
    {
     "data": {
      "text/plain": [
       "372.02"
      ]
     },
     "execution_count": 24,
     "metadata": {},
     "output_type": "execute_result"
    }
   ],
   "source": [
    "#answer\n",
    "pct_countries50k.max().round(2)"
   ]
  },
  {
   "cell_type": "markdown",
   "id": "17873573",
   "metadata": {},
   "source": [
    "8. Identify the most popular occupation for those who earn >50K in India."
   ]
  },
  {
   "cell_type": "code",
   "execution_count": 25,
   "id": "8abf8617",
   "metadata": {},
   "outputs": [
    {
     "data": {
      "text/plain": [
       "United-States                 29170\n",
       "Mexico                          643\n",
       "?                               583\n",
       "Philippines                     198\n",
       "Germany                         137\n",
       "Canada                          121\n",
       "Puerto-Rico                     114\n",
       "El-Salvador                     106\n",
       "India                           100\n",
       "Cuba                             95\n",
       "England                          90\n",
       "Jamaica                          81\n",
       "South                            80\n",
       "China                            75\n",
       "Italy                            73\n",
       "Dominican-Republic               70\n",
       "Vietnam                          67\n",
       "Guatemala                        64\n",
       "Japan                            62\n",
       "Poland                           60\n",
       "Columbia                         59\n",
       "Taiwan                           51\n",
       "Haiti                            44\n",
       "Iran                             43\n",
       "Portugal                         37\n",
       "Nicaragua                        34\n",
       "Peru                             31\n",
       "France                           29\n",
       "Greece                           29\n",
       "Ecuador                          28\n",
       "Ireland                          24\n",
       "Hong                             20\n",
       "Cambodia                         19\n",
       "Trinadad&Tobago                  19\n",
       "Laos                             18\n",
       "Thailand                         18\n",
       "Yugoslavia                       16\n",
       "Outlying-US(Guam-USVI-etc)       14\n",
       "Honduras                         13\n",
       "Hungary                          13\n",
       "Scotland                         12\n",
       "Holand-Netherlands                1\n",
       "Name: native-country, dtype: int64"
      ]
     },
     "execution_count": 25,
     "metadata": {},
     "output_type": "execute_result"
    }
   ],
   "source": [
    "data['native-country'].value_counts()"
   ]
  },
  {
   "cell_type": "code",
   "execution_count": 26,
   "id": "382e9ead",
   "metadata": {},
   "outputs": [
    {
     "data": {
      "text/plain": [
       "array(['United-States', 'Cuba', 'Jamaica', 'India', '?', 'Mexico',\n",
       "       'South', 'Puerto-Rico', 'Honduras', 'England', 'Canada', 'Germany',\n",
       "       'Iran', 'Philippines', 'Italy', 'Poland', 'Columbia', 'Cambodia',\n",
       "       'Thailand', 'Ecuador', 'Laos', 'Taiwan', 'Haiti', 'Portugal',\n",
       "       'Dominican-Republic', 'El-Salvador', 'France', 'Guatemala',\n",
       "       'China', 'Japan', 'Yugoslavia', 'Peru',\n",
       "       'Outlying-US(Guam-USVI-etc)', 'Scotland', 'Trinadad&Tobago',\n",
       "       'Greece', 'Nicaragua', 'Vietnam', 'Hong', 'Ireland', 'Hungary',\n",
       "       'Holand-Netherlands'], dtype=object)"
      ]
     },
     "execution_count": 26,
     "metadata": {},
     "output_type": "execute_result"
    }
   ],
   "source": [
    "data['native-country'].unique()"
   ]
  },
  {
   "cell_type": "code",
   "execution_count": 27,
   "id": "4ca5ca54",
   "metadata": {},
   "outputs": [],
   "source": [
    "indian50kplus = ((data['native-country'] == 'India') & (data['salary'] == '>50K'))"
   ]
  },
  {
   "cell_type": "code",
   "execution_count": 28,
   "id": "0218c544",
   "metadata": {},
   "outputs": [
    {
     "data": {
      "text/plain": [
       "Prof-specialty      25\n",
       "Exec-managerial      8\n",
       "Other-service        2\n",
       "Tech-support         2\n",
       "Transport-moving     1\n",
       "Sales                1\n",
       "Adm-clerical         1\n",
       "Name: occupation, dtype: int64"
      ]
     },
     "execution_count": 28,
     "metadata": {},
     "output_type": "execute_result"
    }
   ],
   "source": [
    "indian50kplus_occupations = data['occupation'].loc[indian50kplus].value_counts()\n",
    "indian50kplus_occupations"
   ]
  },
  {
   "cell_type": "code",
   "execution_count": 29,
   "id": "01005816",
   "metadata": {
    "scrolled": true
   },
   "outputs": [
    {
     "data": {
      "text/plain": [
       "Prof-specialty    25\n",
       "Name: occupation, dtype: int64"
      ]
     },
     "execution_count": 29,
     "metadata": {},
     "output_type": "execute_result"
    }
   ],
   "source": [
    "#answer\n",
    "indian50kplus_occupations.head(1)"
   ]
  },
  {
   "cell_type": "markdown",
   "id": "146c5ec7",
   "metadata": {},
   "source": [
    "9. How many of each race are represented in this dataset? This should be a Pandas series with race names as the index labels."
   ]
  },
  {
   "cell_type": "code",
   "execution_count": 30,
   "id": "a2a68bbd",
   "metadata": {},
   "outputs": [
    {
     "data": {
      "text/plain": [
       "White                 27816\n",
       "Black                  3124\n",
       "Asian-Pac-Islander     1039\n",
       "Amer-Indian-Eskimo      311\n",
       "Other                   271\n",
       "Name: race, dtype: int64"
      ]
     },
     "execution_count": 30,
     "metadata": {},
     "output_type": "execute_result"
    }
   ],
   "source": [
    "data['race'].value_counts()"
   ]
  },
  {
   "cell_type": "markdown",
   "id": "427245bc",
   "metadata": {},
   "source": [
    "### Combining all results:"
   ]
  },
  {
   "cell_type": "code",
   "execution_count": 31,
   "id": "c1519296",
   "metadata": {},
   "outputs": [],
   "source": [
    "def calculate_demographic_data(print_data=True):\n",
    "    # Read data from file\n",
    "    df = pd.read_csv('data/adults_data.csv')\n",
    "\n",
    "    # How many of each race are represented in this dataset? This should be a Pandas series with race names as the index labels.\n",
    "    race_count = df['race'].value_counts()\n",
    "  \n",
    "\n",
    "    # What is the average age of men?\n",
    "    males = (df['sex'] == 'Male') \n",
    "    average_age_men = (df['age'].loc[males].mean()).round(2)\n",
    "\n",
    "    # What is the percentage of people who have a Bachelor's degree?\n",
    "    b_degree = (df['education'] =='Bachelors')\n",
    "\n",
    "    percentage_bachelors = ((df['education'].loc[b_degree].count()/32561)*100).round(2)\n",
    "\n",
    "    # What percentage of people with advanced education (`Bachelors`, `Masters`, or `Doctorate`) make more than 50K?\n",
    "    higher_education = (((df['education'] == 'Bachelors') | (df['education'] == 'Masters')|(df['education'] == 'Doctorate' )) & (df['salary'] == '>50K'))\n",
    "\n",
    "    # What percentage of people without advanced education make more than 50K?\n",
    "    lower_education = (~((df['education'] == 'Bachelors') | (df['education'] == 'Masters')|(df['education'] == 'Doctorate' )) &(df['salary'] == '>50K'))\n",
    "    \n",
    "\n",
    "    # with and without `Bachelors`, `Masters`, or `Doctorate`\n",
    "\n",
    "    # percentage with salary >50K\n",
    "    higher_education_rich = ((df['salary'].loc[higher_education].count()/32561)*100).round(2)\n",
    "    lower_education_rich = ((df['salary'].loc[lower_education].count()/df.age.count())*100).round(2)\n",
    "\n",
    "    # What is the minimum number of hours a person works per week (hours-per-week feature)?\n",
    "    min_work_hours = df['hours-per-week'].unique().min()\n",
    "\n",
    "    # What percentage of the people who work the minimum number of hours per week have a salary of >50K?\n",
    "    num_min_workers = ((df['hours-per-week'] == 1) & (df['salary'] == '>50K'))\n",
    "    rich_percentage = ((df['salary'].loc[num_min_workers].count()/df.age.count())*100).round(2)\n",
    "\n",
    "    # What country has the highest percentage of people that earn >50K?\n",
    "\n",
    "    cond = (df['salary'] == '>50K')\n",
    "    pct_countries50k  = (df['native-country'].value_counts()/(df['native-country'].loc[cond].value_counts().sum()))*100\n",
    "    highest_earning_country = pct_countries50k.head(1)\n",
    "    \n",
    "    highest_earning_country_percentage = pct_countries50k.max().round(2)\n",
    "\n",
    "    # Identify the most popular occupation for those who earn >50K in India.\n",
    "    \n",
    "    indian50kplus = ((df['native-country'] == 'India') & (df['salary'] == '>50K'))\n",
    "    indian50kplus_occupations = df['occupation'].loc[indian50kplus].value_counts()\n",
    "    top_IN_occupation = indian50kplus_occupations.head(1)\n",
    "\n",
    "\n",
    "    if print_data:\n",
    "        print(\"Number of each race:\\n\", race_count) \n",
    "        print(\"Average age of men:\", average_age_men)\n",
    "        print(f\"Percentage with Bachelors degrees: {percentage_bachelors}%\")\n",
    "        print(f\"Percentage with higher education that earn >50K: {higher_education_rich}%\")\n",
    "        print(f\"Percentage without higher education that earn >50K: {lower_education_rich}%\")\n",
    "        print(f\"Min work time: {min_work_hours} hours/week\")\n",
    "        print(f\"Percentage of rich among those who work fewest hours: {rich_percentage}%\")\n",
    "        print(\"Country with highest percentage of rich:\", highest_earning_country)\n",
    "        print(f\"Highest percentage of rich people in country: {highest_earning_country_percentage}%\")\n",
    "        print(\"Top occupations in India:\", top_IN_occupation)\n",
    "\n",
    "    return {\n",
    "        'race_count': race_count,\n",
    "        'average_age_men': average_age_men,\n",
    "        'percentage_bachelors': percentage_bachelors,\n",
    "        'higher_education_rich': higher_education_rich,\n",
    "        'lower_education_rich': lower_education_rich,\n",
    "        'min_work_hours': min_work_hours,\n",
    "        'rich_percentage': rich_percentage,\n",
    "        'highest_earning_country': highest_earning_country,\n",
    "        'highest_earning_country_percentage':\n",
    "        highest_earning_country_percentage,\n",
    "        'top_IN_occupation': top_IN_occupation\n",
    "    }"
   ]
  },
  {
   "cell_type": "markdown",
   "id": "aca10a72",
   "metadata": {},
   "source": [
    "## Output:"
   ]
  },
  {
   "cell_type": "code",
   "execution_count": 32,
   "id": "a60605f8",
   "metadata": {
    "scrolled": true
   },
   "outputs": [
    {
     "name": "stdout",
     "output_type": "stream",
     "text": [
      "Number of each race:\n",
      " White                 27816\n",
      "Black                  3124\n",
      "Asian-Pac-Islander     1039\n",
      "Amer-Indian-Eskimo      311\n",
      "Other                   271\n",
      "Name: race, dtype: int64\n",
      "Average age of men: 39.43\n",
      "Percentage with Bachelors degrees: 16.45%\n",
      "Percentage with higher education that earn >50K: 10.71%\n",
      "Percentage without higher education that earn >50K: 13.37%\n",
      "Min work time: 1 hours/week\n",
      "Percentage of rich among those who work fewest hours: 0.01%\n",
      "Country with highest percentage of rich: United-States    372.018875\n",
      "Name: native-country, dtype: float64\n",
      "Highest percentage of rich people in country: 372.02%\n",
      "Top occupations in India: Prof-specialty    25\n",
      "Name: occupation, dtype: int64\n"
     ]
    },
    {
     "data": {
      "text/plain": [
       "{'race_count': White                 27816\n",
       " Black                  3124\n",
       " Asian-Pac-Islander     1039\n",
       " Amer-Indian-Eskimo      311\n",
       " Other                   271\n",
       " Name: race, dtype: int64,\n",
       " 'average_age_men': 39.43,\n",
       " 'percentage_bachelors': 16.45,\n",
       " 'higher_education_rich': 10.71,\n",
       " 'lower_education_rich': 13.37,\n",
       " 'min_work_hours': 1,\n",
       " 'rich_percentage': 0.01,\n",
       " 'highest_earning_country': United-States    372.018875\n",
       " Name: native-country, dtype: float64,\n",
       " 'highest_earning_country_percentage': 372.02,\n",
       " 'top_IN_occupation': Prof-specialty    25\n",
       " Name: occupation, dtype: int64}"
      ]
     },
     "execution_count": 32,
     "metadata": {},
     "output_type": "execute_result"
    }
   ],
   "source": [
    "calculate_demographic_data()"
   ]
  },
  {
   "cell_type": "markdown",
   "id": "1013d43f",
   "metadata": {},
   "source": [
    "![purple-divider](https://user-images.githubusercontent.com/7065401/52071927-c1cd7100-2562-11e9-908a-dde91ba14e59.png)\n",
    "\n",
    "<img src=\"https://imgur.com/3g7LyTV.png\" align = 'right' width=\"240\">\n",
    "\n",
    "$End$ $of$ $the$ $notebook...$"
   ]
  }
 ],
 "metadata": {
  "kernelspec": {
   "display_name": "Python 3 (ipykernel)",
   "language": "python",
   "name": "python3"
  },
  "language_info": {
   "codemirror_mode": {
    "name": "ipython",
    "version": 3
   },
   "file_extension": ".py",
   "mimetype": "text/x-python",
   "name": "python",
   "nbconvert_exporter": "python",
   "pygments_lexer": "ipython3",
   "version": "3.10.8"
  }
 },
 "nbformat": 4,
 "nbformat_minor": 5
}
